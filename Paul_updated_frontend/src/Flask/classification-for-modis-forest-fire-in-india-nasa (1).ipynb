{
 "cells": [
  {
   "cell_type": "markdown",
   "id": "211f478c",
   "metadata": {
    "papermill": {
     "duration": 0.012462,
     "end_time": "2022-11-05T20:18:07.132413",
     "exception": false,
     "start_time": "2022-11-05T20:18:07.119951",
     "status": "completed"
    },
    "tags": []
   },
   "source": [
    "# Forest Fire Classification model "
   ]
  },
  {
   "cell_type": "markdown",
   "id": "682ae0aa",
   "metadata": {
    "papermill": {
     "duration": 0.012471,
     "end_time": "2022-11-05T20:18:07.157447",
     "exception": false,
     "start_time": "2022-11-05T20:18:07.144976",
     "status": "completed"
    },
    "tags": []
   },
   "source": [
    "### This notebook makes the use of the `Active Fire Data` for India in the year 2021 provided by `NASA`.\n",
    "- You can find several other datasets provided by  [here](https://www.earthdata.nasa.gov/)"
   ]
  },
  {
   "cell_type": "markdown",
   "id": "cd43c128",
   "metadata": {
    "papermill": {
     "duration": 0.01101,
     "end_time": "2022-11-05T20:18:07.179722",
     "exception": false,
     "start_time": "2022-11-05T20:18:07.168712",
     "status": "completed"
    },
    "tags": []
   },
   "source": [
    "### Let's first analyse the dataset"
   ]
  },
  {
   "cell_type": "code",
   "execution_count": 2,
   "id": "6038bd18",
   "metadata": {
    "execution": {
     "iopub.execute_input": "2022-11-05T20:18:07.204878Z",
     "iopub.status.busy": "2022-11-05T20:18:07.204038Z",
     "iopub.status.idle": "2022-11-05T20:18:08.099696Z",
     "shell.execute_reply": "2022-11-05T20:18:08.098487Z"
    },
    "papermill": {
     "duration": 0.911147,
     "end_time": "2022-11-05T20:18:08.102362",
     "exception": false,
     "start_time": "2022-11-05T20:18:07.191215",
     "status": "completed"
    },
    "tags": []
   },
   "outputs": [],
   "source": [
    "import pandas as pd\n",
    "import numpy as np\n",
    "from sklearn.metrics import confusion_matrix, accuracy_score, classification_report, f1_score"
   ]
  },
  {
   "cell_type": "code",
   "execution_count": 3,
   "id": "349f2f81",
   "metadata": {
    "execution": {
     "iopub.execute_input": "2022-11-05T20:18:08.126687Z",
     "iopub.status.busy": "2022-11-05T20:18:08.126312Z",
     "iopub.status.idle": "2022-11-05T20:18:08.168622Z",
     "shell.execute_reply": "2022-11-05T20:18:08.167699Z"
    },
    "papermill": {
     "duration": 0.057079,
     "end_time": "2022-11-05T20:18:08.170871",
     "exception": false,
     "start_time": "2022-11-05T20:18:08.113792",
     "status": "completed"
    },
    "tags": []
   },
   "outputs": [],
   "source": [
    "df=pd.read_csv(\"modis_india_2021.csv\")"
   ]
  },
  {
   "cell_type": "code",
   "execution_count": 4,
   "id": "7ea4cbda",
   "metadata": {
    "execution": {
     "iopub.execute_input": "2022-11-05T20:18:08.195929Z",
     "iopub.status.busy": "2022-11-05T20:18:08.195096Z",
     "iopub.status.idle": "2022-11-05T20:18:08.230841Z",
     "shell.execute_reply": "2022-11-05T20:18:08.229475Z"
    },
    "papermill": {
     "duration": 0.050468,
     "end_time": "2022-11-05T20:18:08.232856",
     "exception": false,
     "start_time": "2022-11-05T20:18:08.182388",
     "status": "completed"
    },
    "tags": []
   },
   "outputs": [
    {
     "data": {
      "text/html": [
       "<div>\n",
       "<style scoped>\n",
       "    .dataframe tbody tr th:only-of-type {\n",
       "        vertical-align: middle;\n",
       "    }\n",
       "\n",
       "    .dataframe tbody tr th {\n",
       "        vertical-align: top;\n",
       "    }\n",
       "\n",
       "    .dataframe thead th {\n",
       "        text-align: right;\n",
       "    }\n",
       "</style>\n",
       "<table border=\"1\" class=\"dataframe\">\n",
       "  <thead>\n",
       "    <tr style=\"text-align: right;\">\n",
       "      <th></th>\n",
       "      <th>index</th>\n",
       "      <th>latitude</th>\n",
       "      <th>longitude</th>\n",
       "      <th>brightness</th>\n",
       "      <th>scan</th>\n",
       "      <th>track</th>\n",
       "      <th>acq_time</th>\n",
       "      <th>satellite</th>\n",
       "      <th>confidence</th>\n",
       "      <th>bright_t31</th>\n",
       "      <th>frp</th>\n",
       "      <th>daynight</th>\n",
       "      <th>type</th>\n",
       "    </tr>\n",
       "  </thead>\n",
       "  <tbody>\n",
       "    <tr>\n",
       "      <th>0</th>\n",
       "      <td>13</td>\n",
       "      <td>26.6395</td>\n",
       "      <td>79.4841</td>\n",
       "      <td>311.8</td>\n",
       "      <td>1.6</td>\n",
       "      <td>1.2</td>\n",
       "      <td>548</td>\n",
       "      <td>Terra</td>\n",
       "      <td>72</td>\n",
       "      <td>289.7</td>\n",
       "      <td>18.3</td>\n",
       "      <td>D</td>\n",
       "      <td>2</td>\n",
       "    </tr>\n",
       "    <tr>\n",
       "      <th>1</th>\n",
       "      <td>14</td>\n",
       "      <td>26.6423</td>\n",
       "      <td>79.4749</td>\n",
       "      <td>309.0</td>\n",
       "      <td>1.6</td>\n",
       "      <td>1.2</td>\n",
       "      <td>548</td>\n",
       "      <td>Terra</td>\n",
       "      <td>64</td>\n",
       "      <td>289.7</td>\n",
       "      <td>15.8</td>\n",
       "      <td>D</td>\n",
       "      <td>2</td>\n",
       "    </tr>\n",
       "    <tr>\n",
       "      <th>2</th>\n",
       "      <td>15</td>\n",
       "      <td>26.6394</td>\n",
       "      <td>79.4905</td>\n",
       "      <td>304.3</td>\n",
       "      <td>1.6</td>\n",
       "      <td>1.2</td>\n",
       "      <td>548</td>\n",
       "      <td>Terra</td>\n",
       "      <td>51</td>\n",
       "      <td>289.9</td>\n",
       "      <td>9.8</td>\n",
       "      <td>D</td>\n",
       "      <td>2</td>\n",
       "    </tr>\n",
       "    <tr>\n",
       "      <th>3</th>\n",
       "      <td>21</td>\n",
       "      <td>18.6875</td>\n",
       "      <td>73.0387</td>\n",
       "      <td>315.7</td>\n",
       "      <td>1.0</td>\n",
       "      <td>1.0</td>\n",
       "      <td>550</td>\n",
       "      <td>Terra</td>\n",
       "      <td>0</td>\n",
       "      <td>300.6</td>\n",
       "      <td>7.3</td>\n",
       "      <td>D</td>\n",
       "      <td>2</td>\n",
       "    </tr>\n",
       "    <tr>\n",
       "      <th>4</th>\n",
       "      <td>50</td>\n",
       "      <td>23.7779</td>\n",
       "      <td>86.3951</td>\n",
       "      <td>314.6</td>\n",
       "      <td>1.3</td>\n",
       "      <td>1.1</td>\n",
       "      <td>720</td>\n",
       "      <td>Aqua</td>\n",
       "      <td>66</td>\n",
       "      <td>302.5</td>\n",
       "      <td>10.9</td>\n",
       "      <td>D</td>\n",
       "      <td>2</td>\n",
       "    </tr>\n",
       "    <tr>\n",
       "      <th>...</th>\n",
       "      <td>...</td>\n",
       "      <td>...</td>\n",
       "      <td>...</td>\n",
       "      <td>...</td>\n",
       "      <td>...</td>\n",
       "      <td>...</td>\n",
       "      <td>...</td>\n",
       "      <td>...</td>\n",
       "      <td>...</td>\n",
       "      <td>...</td>\n",
       "      <td>...</td>\n",
       "      <td>...</td>\n",
       "      <td>...</td>\n",
       "    </tr>\n",
       "    <tr>\n",
       "      <th>12237</th>\n",
       "      <td>111262</td>\n",
       "      <td>21.1066</td>\n",
       "      <td>72.6336</td>\n",
       "      <td>307.9</td>\n",
       "      <td>1.5</td>\n",
       "      <td>1.2</td>\n",
       "      <td>1703</td>\n",
       "      <td>Terra</td>\n",
       "      <td>73</td>\n",
       "      <td>290.5</td>\n",
       "      <td>16.1</td>\n",
       "      <td>N</td>\n",
       "      <td>2</td>\n",
       "    </tr>\n",
       "    <tr>\n",
       "      <th>12238</th>\n",
       "      <td>111263</td>\n",
       "      <td>19.1224</td>\n",
       "      <td>76.7451</td>\n",
       "      <td>303.2</td>\n",
       "      <td>1.0</td>\n",
       "      <td>1.0</td>\n",
       "      <td>1703</td>\n",
       "      <td>Terra</td>\n",
       "      <td>54</td>\n",
       "      <td>288.0</td>\n",
       "      <td>6.5</td>\n",
       "      <td>N</td>\n",
       "      <td>0</td>\n",
       "    </tr>\n",
       "    <tr>\n",
       "      <th>12239</th>\n",
       "      <td>111264</td>\n",
       "      <td>19.2367</td>\n",
       "      <td>76.9620</td>\n",
       "      <td>304.1</td>\n",
       "      <td>1.0</td>\n",
       "      <td>1.0</td>\n",
       "      <td>1703</td>\n",
       "      <td>Terra</td>\n",
       "      <td>59</td>\n",
       "      <td>288.2</td>\n",
       "      <td>7.2</td>\n",
       "      <td>N</td>\n",
       "      <td>0</td>\n",
       "    </tr>\n",
       "    <tr>\n",
       "      <th>12240</th>\n",
       "      <td>111265</td>\n",
       "      <td>23.7817</td>\n",
       "      <td>86.3960</td>\n",
       "      <td>306.2</td>\n",
       "      <td>1.2</td>\n",
       "      <td>1.1</td>\n",
       "      <td>1954</td>\n",
       "      <td>Aqua</td>\n",
       "      <td>65</td>\n",
       "      <td>287.8</td>\n",
       "      <td>10.8</td>\n",
       "      <td>N</td>\n",
       "      <td>2</td>\n",
       "    </tr>\n",
       "    <tr>\n",
       "      <th>12241</th>\n",
       "      <td>111266</td>\n",
       "      <td>20.7973</td>\n",
       "      <td>85.2590</td>\n",
       "      <td>302.6</td>\n",
       "      <td>1.2</td>\n",
       "      <td>1.1</td>\n",
       "      <td>1955</td>\n",
       "      <td>Aqua</td>\n",
       "      <td>50</td>\n",
       "      <td>289.1</td>\n",
       "      <td>8.4</td>\n",
       "      <td>N</td>\n",
       "      <td>2</td>\n",
       "    </tr>\n",
       "  </tbody>\n",
       "</table>\n",
       "<p>12242 rows × 13 columns</p>\n",
       "</div>"
      ],
      "text/plain": [
       "        index  latitude  longitude  brightness  scan  track  acq_time  \\\n",
       "0          13   26.6395    79.4841       311.8   1.6    1.2       548   \n",
       "1          14   26.6423    79.4749       309.0   1.6    1.2       548   \n",
       "2          15   26.6394    79.4905       304.3   1.6    1.2       548   \n",
       "3          21   18.6875    73.0387       315.7   1.0    1.0       550   \n",
       "4          50   23.7779    86.3951       314.6   1.3    1.1       720   \n",
       "...       ...       ...        ...         ...   ...    ...       ...   \n",
       "12237  111262   21.1066    72.6336       307.9   1.5    1.2      1703   \n",
       "12238  111263   19.1224    76.7451       303.2   1.0    1.0      1703   \n",
       "12239  111264   19.2367    76.9620       304.1   1.0    1.0      1703   \n",
       "12240  111265   23.7817    86.3960       306.2   1.2    1.1      1954   \n",
       "12241  111266   20.7973    85.2590       302.6   1.2    1.1      1955   \n",
       "\n",
       "      satellite  confidence  bright_t31   frp daynight  type  \n",
       "0         Terra          72       289.7  18.3        D     2  \n",
       "1         Terra          64       289.7  15.8        D     2  \n",
       "2         Terra          51       289.9   9.8        D     2  \n",
       "3         Terra           0       300.6   7.3        D     2  \n",
       "4          Aqua          66       302.5  10.9        D     2  \n",
       "...         ...         ...         ...   ...      ...   ...  \n",
       "12237     Terra          73       290.5  16.1        N     2  \n",
       "12238     Terra          54       288.0   6.5        N     0  \n",
       "12239     Terra          59       288.2   7.2        N     0  \n",
       "12240      Aqua          65       287.8  10.8        N     2  \n",
       "12241      Aqua          50       289.1   8.4        N     2  \n",
       "\n",
       "[12242 rows x 13 columns]"
      ]
     },
     "execution_count": 4,
     "metadata": {},
     "output_type": "execute_result"
    }
   ],
   "source": [
    "df"
   ]
  },
  {
   "cell_type": "markdown",
   "id": "56528ec6",
   "metadata": {
    "papermill": {
     "duration": 0.011139,
     "end_time": "2022-11-05T20:18:08.255767",
     "exception": false,
     "start_time": "2022-11-05T20:18:08.244628",
     "status": "completed"
    },
    "tags": []
   },
   "source": [
    "### The columns represent the following: \n",
    "- `latitude`: Latitude of the fire pixel detected by the satellite *(degrees)*\n",
    "- `longitude`: Longitude of the fire pixel detected by the satellite *(degrees)*\n",
    "- `brightness`: Brightness temperature of the fire pixel *(in K)*\n",
    "- `scan`: Area of a MODIS pixel at the Earth’s surface *(Along-scan: ΔS)*\n",
    "- `track`: Area of a MODIS pixel at the Earth’s surface *(Along-track: ΔT)*\n",
    "- `acq_time`: Time at which the fire was detected\n",
    "- `satellite`: Satellite used to detect the fire. Either Terra(T) or Aqua(A)\n",
    "- `instrument`: MODIS\n",
    "- `confidence`: Detection confidence *(range 0-100)*\n",
    "- `bright_t31`:  Band 31 brightness temperature of the pixel *(in K)*\n",
    "- `frp`: Fire radiative power *(in MW- megawatts)*\n",
    "- `daynight`: Detected during the day or night. Either Day(D) or Night(N) \n",
    "- `type`: Inferred hot spot type: \n",
    "         - 0= presumed vegetation fire \n",
    "         - 1= active volcano\n",
    "         - 2= other static land source\n",
    "         - 3= offshore"
   ]
  },
  {
   "cell_type": "markdown",
   "id": "16a21611",
   "metadata": {
    "papermill": {
     "duration": 0.011111,
     "end_time": "2022-11-05T20:18:08.278239",
     "exception": false,
     "start_time": "2022-11-05T20:18:08.267128",
     "status": "completed"
    },
    "tags": []
   },
   "source": [
    "### In this notebook, we will be building models to predict the type of forest fire detected by MODIS."
   ]
  },
  {
   "cell_type": "code",
   "execution_count": 5,
   "id": "1f366629",
   "metadata": {
    "execution": {
     "iopub.execute_input": "2022-11-05T20:18:08.303977Z",
     "iopub.status.busy": "2022-11-05T20:18:08.303599Z",
     "iopub.status.idle": "2022-11-05T20:18:08.319493Z",
     "shell.execute_reply": "2022-11-05T20:18:08.318287Z"
    },
    "papermill": {
     "duration": 0.031804,
     "end_time": "2022-11-05T20:18:08.321488",
     "exception": false,
     "start_time": "2022-11-05T20:18:08.289684",
     "status": "completed"
    },
    "tags": []
   },
   "outputs": [
    {
     "name": "stdout",
     "output_type": "stream",
     "text": [
      "satellite\n",
      "Aqua     8400\n",
      "Terra    3842\n",
      "Name: count, dtype: int64\n",
      "daynight\n",
      "D    10259\n",
      "N     1983\n",
      "Name: count, dtype: int64\n",
      "type\n",
      "0    7915\n",
      "2    4314\n",
      "3      13\n",
      "Name: count, dtype: int64\n"
     ]
    }
   ],
   "source": [
    "print(df['satellite'].value_counts())\n",
    "print(df['daynight'].value_counts())\n",
    "print(df['type'].value_counts())"
   ]
  },
  {
   "cell_type": "markdown",
   "id": "58875675",
   "metadata": {
    "papermill": {
     "duration": 0.011224,
     "end_time": "2022-11-05T20:18:08.344619",
     "exception": false,
     "start_time": "2022-11-05T20:18:08.333395",
     "status": "completed"
    },
    "tags": []
   },
   "source": [
    "> We can see that: \n",
    "- There is a huge imbalance of classes in the `type` column for number `3`. Hence we can drop it."
   ]
  },
  {
   "cell_type": "code",
   "execution_count": 6,
   "id": "5ee8839e",
   "metadata": {
    "execution": {
     "iopub.execute_input": "2022-11-05T20:18:08.369608Z",
     "iopub.status.busy": "2022-11-05T20:18:08.369249Z",
     "iopub.status.idle": "2022-11-05T20:18:08.479852Z",
     "shell.execute_reply": "2022-11-05T20:18:08.478557Z"
    },
    "papermill": {
     "duration": 0.126127,
     "end_time": "2022-11-05T20:18:08.482475",
     "exception": false,
     "start_time": "2022-11-05T20:18:08.356348",
     "status": "completed"
    },
    "tags": []
   },
   "outputs": [],
   "source": [
    "\n",
    "for i in df.index:\n",
    "    if df['type'][i]==3: \n",
    "      df.drop([i],inplace=True)\n",
    "df.reset_index(inplace = True)\n"
   ]
  },
  {
   "cell_type": "markdown",
   "id": "d8976328",
   "metadata": {
    "papermill": {
     "duration": 0.011403,
     "end_time": "2022-11-05T20:18:08.505747",
     "exception": false,
     "start_time": "2022-11-05T20:18:08.494344",
     "status": "completed"
    },
    "tags": []
   },
   "source": [
    "### Handling categorical values\n",
    "- Since we have 2 values (Terra and Aqua) for satellite, we will be using a binary encoder"
   ]
  },
  {
   "cell_type": "code",
   "execution_count": 7,
   "id": "e0508754",
   "metadata": {
    "execution": {
     "iopub.execute_input": "2022-11-05T20:18:08.530625Z",
     "iopub.status.busy": "2022-11-05T20:18:08.530253Z",
     "iopub.status.idle": "2022-11-05T20:18:08.770893Z",
     "shell.execute_reply": "2022-11-05T20:18:08.769698Z"
    },
    "papermill": {
     "duration": 0.256297,
     "end_time": "2022-11-05T20:18:08.773847",
     "exception": false,
     "start_time": "2022-11-05T20:18:08.517550",
     "status": "completed"
    },
    "tags": []
   },
   "outputs": [],
   "source": [
    "import category_encoders as ce\n",
    "\n",
    "encoder = ce.BinaryEncoder(cols=['satellite'])\n",
    "df = encoder.fit_transform(df)\n",
    "encoder = ce.BinaryEncoder(cols=['daynight'])\n",
    "df = encoder.fit_transform(df)"
   ]
  },
  {
   "cell_type": "code",
   "execution_count": 8,
   "id": "147aa152",
   "metadata": {
    "execution": {
     "iopub.execute_input": "2022-11-05T20:18:08.800509Z",
     "iopub.status.busy": "2022-11-05T20:18:08.800122Z",
     "iopub.status.idle": "2022-11-05T20:18:08.818765Z",
     "shell.execute_reply": "2022-11-05T20:18:08.817460Z"
    },
    "papermill": {
     "duration": 0.034116,
     "end_time": "2022-11-05T20:18:08.820853",
     "exception": false,
     "start_time": "2022-11-05T20:18:08.786737",
     "status": "completed"
    },
    "tags": []
   },
   "outputs": [
    {
     "data": {
      "text/html": [
       "<div>\n",
       "<style scoped>\n",
       "    .dataframe tbody tr th:only-of-type {\n",
       "        vertical-align: middle;\n",
       "    }\n",
       "\n",
       "    .dataframe tbody tr th {\n",
       "        vertical-align: top;\n",
       "    }\n",
       "\n",
       "    .dataframe thead th {\n",
       "        text-align: right;\n",
       "    }\n",
       "</style>\n",
       "<table border=\"1\" class=\"dataframe\">\n",
       "  <thead>\n",
       "    <tr style=\"text-align: right;\">\n",
       "      <th></th>\n",
       "      <th>level_0</th>\n",
       "      <th>index</th>\n",
       "      <th>latitude</th>\n",
       "      <th>longitude</th>\n",
       "      <th>brightness</th>\n",
       "      <th>scan</th>\n",
       "      <th>track</th>\n",
       "      <th>acq_time</th>\n",
       "      <th>satellite_0</th>\n",
       "      <th>satellite_1</th>\n",
       "      <th>confidence</th>\n",
       "      <th>bright_t31</th>\n",
       "      <th>frp</th>\n",
       "      <th>daynight_0</th>\n",
       "      <th>daynight_1</th>\n",
       "      <th>type</th>\n",
       "    </tr>\n",
       "  </thead>\n",
       "  <tbody>\n",
       "    <tr>\n",
       "      <th>0</th>\n",
       "      <td>0</td>\n",
       "      <td>13</td>\n",
       "      <td>26.6395</td>\n",
       "      <td>79.4841</td>\n",
       "      <td>311.8</td>\n",
       "      <td>1.6</td>\n",
       "      <td>1.2</td>\n",
       "      <td>548</td>\n",
       "      <td>0</td>\n",
       "      <td>1</td>\n",
       "      <td>72</td>\n",
       "      <td>289.7</td>\n",
       "      <td>18.3</td>\n",
       "      <td>0</td>\n",
       "      <td>1</td>\n",
       "      <td>2</td>\n",
       "    </tr>\n",
       "    <tr>\n",
       "      <th>1</th>\n",
       "      <td>1</td>\n",
       "      <td>14</td>\n",
       "      <td>26.6423</td>\n",
       "      <td>79.4749</td>\n",
       "      <td>309.0</td>\n",
       "      <td>1.6</td>\n",
       "      <td>1.2</td>\n",
       "      <td>548</td>\n",
       "      <td>0</td>\n",
       "      <td>1</td>\n",
       "      <td>64</td>\n",
       "      <td>289.7</td>\n",
       "      <td>15.8</td>\n",
       "      <td>0</td>\n",
       "      <td>1</td>\n",
       "      <td>2</td>\n",
       "    </tr>\n",
       "    <tr>\n",
       "      <th>2</th>\n",
       "      <td>2</td>\n",
       "      <td>15</td>\n",
       "      <td>26.6394</td>\n",
       "      <td>79.4905</td>\n",
       "      <td>304.3</td>\n",
       "      <td>1.6</td>\n",
       "      <td>1.2</td>\n",
       "      <td>548</td>\n",
       "      <td>0</td>\n",
       "      <td>1</td>\n",
       "      <td>51</td>\n",
       "      <td>289.9</td>\n",
       "      <td>9.8</td>\n",
       "      <td>0</td>\n",
       "      <td>1</td>\n",
       "      <td>2</td>\n",
       "    </tr>\n",
       "    <tr>\n",
       "      <th>3</th>\n",
       "      <td>3</td>\n",
       "      <td>21</td>\n",
       "      <td>18.6875</td>\n",
       "      <td>73.0387</td>\n",
       "      <td>315.7</td>\n",
       "      <td>1.0</td>\n",
       "      <td>1.0</td>\n",
       "      <td>550</td>\n",
       "      <td>0</td>\n",
       "      <td>1</td>\n",
       "      <td>0</td>\n",
       "      <td>300.6</td>\n",
       "      <td>7.3</td>\n",
       "      <td>0</td>\n",
       "      <td>1</td>\n",
       "      <td>2</td>\n",
       "    </tr>\n",
       "    <tr>\n",
       "      <th>4</th>\n",
       "      <td>4</td>\n",
       "      <td>50</td>\n",
       "      <td>23.7779</td>\n",
       "      <td>86.3951</td>\n",
       "      <td>314.6</td>\n",
       "      <td>1.3</td>\n",
       "      <td>1.1</td>\n",
       "      <td>720</td>\n",
       "      <td>1</td>\n",
       "      <td>0</td>\n",
       "      <td>66</td>\n",
       "      <td>302.5</td>\n",
       "      <td>10.9</td>\n",
       "      <td>0</td>\n",
       "      <td>1</td>\n",
       "      <td>2</td>\n",
       "    </tr>\n",
       "  </tbody>\n",
       "</table>\n",
       "</div>"
      ],
      "text/plain": [
       "   level_0  index  latitude  longitude  brightness  scan  track  acq_time  \\\n",
       "0        0     13   26.6395    79.4841       311.8   1.6    1.2       548   \n",
       "1        1     14   26.6423    79.4749       309.0   1.6    1.2       548   \n",
       "2        2     15   26.6394    79.4905       304.3   1.6    1.2       548   \n",
       "3        3     21   18.6875    73.0387       315.7   1.0    1.0       550   \n",
       "4        4     50   23.7779    86.3951       314.6   1.3    1.1       720   \n",
       "\n",
       "   satellite_0  satellite_1  confidence  bright_t31   frp  daynight_0  \\\n",
       "0            0            1          72       289.7  18.3           0   \n",
       "1            0            1          64       289.7  15.8           0   \n",
       "2            0            1          51       289.9   9.8           0   \n",
       "3            0            1           0       300.6   7.3           0   \n",
       "4            1            0          66       302.5  10.9           0   \n",
       "\n",
       "   daynight_1  type  \n",
       "0           1     2  \n",
       "1           1     2  \n",
       "2           1     2  \n",
       "3           1     2  \n",
       "4           1     2  "
      ]
     },
     "execution_count": 8,
     "metadata": {},
     "output_type": "execute_result"
    }
   ],
   "source": [
    "df.head()"
   ]
  },
  {
   "cell_type": "markdown",
   "id": "9aa51be6",
   "metadata": {
    "papermill": {
     "duration": 0.011484,
     "end_time": "2022-11-05T20:18:08.844353",
     "exception": false,
     "start_time": "2022-11-05T20:18:08.832869",
     "status": "completed"
    },
    "tags": []
   },
   "source": [
    "- Here `satellite_0` is for Aqua while `satellite_1` is for Terra\n",
    "- And `daynight_0` is for Day while `daynight_1` is for Night\n",
    "- Hence we can remove one of them"
   ]
  },
  {
   "cell_type": "code",
   "execution_count": 9,
   "id": "fa0c001e",
   "metadata": {
    "execution": {
     "iopub.execute_input": "2022-11-05T20:18:08.870999Z",
     "iopub.status.busy": "2022-11-05T20:18:08.870491Z",
     "iopub.status.idle": "2022-11-05T20:18:08.875875Z",
     "shell.execute_reply": "2022-11-05T20:18:08.874963Z"
    },
    "papermill": {
     "duration": 0.020798,
     "end_time": "2022-11-05T20:18:08.877717",
     "exception": false,
     "start_time": "2022-11-05T20:18:08.856919",
     "status": "completed"
    },
    "tags": []
   },
   "outputs": [],
   "source": [
    "df=df.drop(['satellite_1','daynight_1'], axis=1)"
   ]
  },
  {
   "cell_type": "markdown",
   "id": "20a98af7",
   "metadata": {
    "papermill": {
     "duration": 0.011798,
     "end_time": "2022-11-05T20:18:08.901810",
     "exception": false,
     "start_time": "2022-11-05T20:18:08.890012",
     "status": "completed"
    },
    "tags": []
   },
   "source": [
    "### Handling the time column `acq_time`\n",
    "- Since it's in the format HHMM, we will only extract the hours part of the time, minutes won't be relevant for our model. \n",
    "- using floor division we removed last 2 digits that represented the minutes"
   ]
  },
  {
   "cell_type": "code",
   "execution_count": 10,
   "id": "3bd15600",
   "metadata": {
    "execution": {
     "iopub.execute_input": "2022-11-05T20:18:08.927830Z",
     "iopub.status.busy": "2022-11-05T20:18:08.927478Z",
     "iopub.status.idle": "2022-11-05T20:18:08.944501Z",
     "shell.execute_reply": "2022-11-05T20:18:08.943278Z"
    },
    "papermill": {
     "duration": 0.032857,
     "end_time": "2022-11-05T20:18:08.946883",
     "exception": false,
     "start_time": "2022-11-05T20:18:08.914026",
     "status": "completed"
    },
    "tags": []
   },
   "outputs": [
    {
     "data": {
      "text/html": [
       "<div>\n",
       "<style scoped>\n",
       "    .dataframe tbody tr th:only-of-type {\n",
       "        vertical-align: middle;\n",
       "    }\n",
       "\n",
       "    .dataframe tbody tr th {\n",
       "        vertical-align: top;\n",
       "    }\n",
       "\n",
       "    .dataframe thead th {\n",
       "        text-align: right;\n",
       "    }\n",
       "</style>\n",
       "<table border=\"1\" class=\"dataframe\">\n",
       "  <thead>\n",
       "    <tr style=\"text-align: right;\">\n",
       "      <th></th>\n",
       "      <th>level_0</th>\n",
       "      <th>index</th>\n",
       "      <th>latitude</th>\n",
       "      <th>longitude</th>\n",
       "      <th>brightness</th>\n",
       "      <th>scan</th>\n",
       "      <th>track</th>\n",
       "      <th>acq_time</th>\n",
       "      <th>satellite_0</th>\n",
       "      <th>confidence</th>\n",
       "      <th>bright_t31</th>\n",
       "      <th>frp</th>\n",
       "      <th>daynight_0</th>\n",
       "      <th>type</th>\n",
       "    </tr>\n",
       "  </thead>\n",
       "  <tbody>\n",
       "    <tr>\n",
       "      <th>0</th>\n",
       "      <td>0</td>\n",
       "      <td>13</td>\n",
       "      <td>26.6395</td>\n",
       "      <td>79.4841</td>\n",
       "      <td>311.8</td>\n",
       "      <td>1.6</td>\n",
       "      <td>1.2</td>\n",
       "      <td>5</td>\n",
       "      <td>0</td>\n",
       "      <td>72</td>\n",
       "      <td>289.7</td>\n",
       "      <td>18.3</td>\n",
       "      <td>0</td>\n",
       "      <td>2</td>\n",
       "    </tr>\n",
       "    <tr>\n",
       "      <th>1</th>\n",
       "      <td>1</td>\n",
       "      <td>14</td>\n",
       "      <td>26.6423</td>\n",
       "      <td>79.4749</td>\n",
       "      <td>309.0</td>\n",
       "      <td>1.6</td>\n",
       "      <td>1.2</td>\n",
       "      <td>5</td>\n",
       "      <td>0</td>\n",
       "      <td>64</td>\n",
       "      <td>289.7</td>\n",
       "      <td>15.8</td>\n",
       "      <td>0</td>\n",
       "      <td>2</td>\n",
       "    </tr>\n",
       "    <tr>\n",
       "      <th>2</th>\n",
       "      <td>2</td>\n",
       "      <td>15</td>\n",
       "      <td>26.6394</td>\n",
       "      <td>79.4905</td>\n",
       "      <td>304.3</td>\n",
       "      <td>1.6</td>\n",
       "      <td>1.2</td>\n",
       "      <td>5</td>\n",
       "      <td>0</td>\n",
       "      <td>51</td>\n",
       "      <td>289.9</td>\n",
       "      <td>9.8</td>\n",
       "      <td>0</td>\n",
       "      <td>2</td>\n",
       "    </tr>\n",
       "    <tr>\n",
       "      <th>3</th>\n",
       "      <td>3</td>\n",
       "      <td>21</td>\n",
       "      <td>18.6875</td>\n",
       "      <td>73.0387</td>\n",
       "      <td>315.7</td>\n",
       "      <td>1.0</td>\n",
       "      <td>1.0</td>\n",
       "      <td>5</td>\n",
       "      <td>0</td>\n",
       "      <td>0</td>\n",
       "      <td>300.6</td>\n",
       "      <td>7.3</td>\n",
       "      <td>0</td>\n",
       "      <td>2</td>\n",
       "    </tr>\n",
       "    <tr>\n",
       "      <th>4</th>\n",
       "      <td>4</td>\n",
       "      <td>50</td>\n",
       "      <td>23.7779</td>\n",
       "      <td>86.3951</td>\n",
       "      <td>314.6</td>\n",
       "      <td>1.3</td>\n",
       "      <td>1.1</td>\n",
       "      <td>7</td>\n",
       "      <td>1</td>\n",
       "      <td>66</td>\n",
       "      <td>302.5</td>\n",
       "      <td>10.9</td>\n",
       "      <td>0</td>\n",
       "      <td>2</td>\n",
       "    </tr>\n",
       "  </tbody>\n",
       "</table>\n",
       "</div>"
      ],
      "text/plain": [
       "   level_0  index  latitude  longitude  brightness  scan  track  acq_time  \\\n",
       "0        0     13   26.6395    79.4841       311.8   1.6    1.2         5   \n",
       "1        1     14   26.6423    79.4749       309.0   1.6    1.2         5   \n",
       "2        2     15   26.6394    79.4905       304.3   1.6    1.2         5   \n",
       "3        3     21   18.6875    73.0387       315.7   1.0    1.0         5   \n",
       "4        4     50   23.7779    86.3951       314.6   1.3    1.1         7   \n",
       "\n",
       "   satellite_0  confidence  bright_t31   frp  daynight_0  type  \n",
       "0            0          72       289.7  18.3           0     2  \n",
       "1            0          64       289.7  15.8           0     2  \n",
       "2            0          51       289.9   9.8           0     2  \n",
       "3            0           0       300.6   7.3           0     2  \n",
       "4            1          66       302.5  10.9           0     2  "
      ]
     },
     "execution_count": 10,
     "metadata": {},
     "output_type": "execute_result"
    }
   ],
   "source": [
    "df['acq_time'] = df['acq_time']//100 \n",
    "df.head()\n",
    "    "
   ]
  },
  {
   "cell_type": "markdown",
   "id": "e3b79713",
   "metadata": {
    "papermill": {
     "duration": 0.012169,
     "end_time": "2022-11-05T20:18:08.971683",
     "exception": false,
     "start_time": "2022-11-05T20:18:08.959514",
     "status": "completed"
    },
    "tags": []
   },
   "source": [
    "### Feature Selection and finding the correlation"
   ]
  },
  {
   "cell_type": "markdown",
   "id": "2974a780",
   "metadata": {
    "papermill": {
     "duration": 0.012135,
     "end_time": "2022-11-05T20:18:08.996168",
     "exception": false,
     "start_time": "2022-11-05T20:18:08.984033",
     "status": "completed"
    },
    "tags": []
   },
   "source": [
    "- We are using `stratified shuffle split` since our dataset contains unbalanced classes for the `type` column. "
   ]
  },
  {
   "cell_type": "code",
   "execution_count": 11,
   "id": "0a268073",
   "metadata": {
    "execution": {
     "iopub.execute_input": "2022-11-05T20:18:09.022709Z",
     "iopub.status.busy": "2022-11-05T20:18:09.022332Z",
     "iopub.status.idle": "2022-11-05T20:18:09.047575Z",
     "shell.execute_reply": "2022-11-05T20:18:09.046597Z"
    },
    "papermill": {
     "duration": 0.041726,
     "end_time": "2022-11-05T20:18:09.050226",
     "exception": false,
     "start_time": "2022-11-05T20:18:09.008500",
     "status": "completed"
    },
    "tags": []
   },
   "outputs": [],
   "source": [
    "from sklearn.model_selection import StratifiedShuffleSplit\n",
    "target='type'\n",
    "\n",
    "feature_cols = [x for x in df.columns if x != target]\n",
    "\n",
    "strat_shuff_split = StratifiedShuffleSplit(n_splits=1, test_size=0.2, random_state=42)\n",
    "\n",
    "# Get the index values from the generator\n",
    "train_idx, test_idx = next(strat_shuff_split.split(df[feature_cols], df[target]))\n",
    "\n",
    "# Create the data sets\n",
    "X_train = df.loc[train_idx, feature_cols]\n",
    "y_train = df.loc[train_idx, target]\n",
    "X_test = df.loc[test_idx, feature_cols]\n",
    "y_test = df.loc[test_idx, target]"
   ]
  },
  {
   "cell_type": "markdown",
   "id": "2b53538c",
   "metadata": {
    "papermill": {
     "duration": 0.011992,
     "end_time": "2022-11-05T20:18:09.074749",
     "exception": false,
     "start_time": "2022-11-05T20:18:09.062757",
     "status": "completed"
    },
    "tags": []
   },
   "source": [
    "- Now that we have split the model, we will start with the feature selection"
   ]
  },
  {
   "cell_type": "code",
   "execution_count": 12,
   "id": "3d884765",
   "metadata": {
    "execution": {
     "iopub.execute_input": "2022-11-05T20:18:09.100555Z",
     "iopub.status.busy": "2022-11-05T20:18:09.100173Z",
     "iopub.status.idle": "2022-11-05T20:18:10.166941Z",
     "shell.execute_reply": "2022-11-05T20:18:10.165792Z"
    },
    "papermill": {
     "duration": 1.081858,
     "end_time": "2022-11-05T20:18:10.168787",
     "exception": false,
     "start_time": "2022-11-05T20:18:09.086929",
     "status": "completed"
    },
    "tags": []
   },
   "outputs": [
    {
     "data": {
      "text/plain": [
       "<Axes: >"
      ]
     },
     "execution_count": 12,
     "metadata": {},
     "output_type": "execute_result"
    },
    {
     "data": {
      "image/png": "[encoded data removed]",
      "text/plain": [
       "<Figure size 1600x1000 with 2 Axes>"
      ]
     },
     "metadata": {},
     "output_type": "display_data"
    }
   ],
   "source": [
    "import seaborn as sns\n",
    "import matplotlib.pyplot as plt\n",
    "plt.figure(figsize=(16,10))\n",
    "cor=X_train.corr()\n",
    "sns.heatmap(cor,annot=True,cmap=plt.cm.CMRmap_r)"
   ]
  },
  {
   "cell_type": "markdown",
   "id": "30198d16",
   "metadata": {
    "papermill": {
     "duration": 0.013116,
     "end_time": "2022-11-05T20:18:10.195625",
     "exception": false,
     "start_time": "2022-11-05T20:18:10.182509",
     "status": "completed"
    },
    "tags": []
   },
   "source": [
    "> We will define a function to identify the highly correlated features to remove them"
   ]
  },
  {
   "cell_type": "code",
   "execution_count": 13,
   "id": "ba3fab01",
   "metadata": {
    "execution": {
     "iopub.execute_input": "2022-11-05T20:18:10.224209Z",
     "iopub.status.busy": "2022-11-05T20:18:10.223540Z",
     "iopub.status.idle": "2022-11-05T20:18:10.229824Z",
     "shell.execute_reply": "2022-11-05T20:18:10.228433Z"
    },
    "papermill": {
     "duration": 0.022962,
     "end_time": "2022-11-05T20:18:10.231902",
     "exception": false,
     "start_time": "2022-11-05T20:18:10.208940",
     "status": "completed"
    },
    "tags": []
   },
   "outputs": [],
   "source": [
    "def correlation(dataset, threshold):\n",
    "     col_corr = set() # Set of all the names of correlated columns\n",
    "     corr_matrix = dataset.corr()\n",
    "     for i in range(len(corr_matrix.columns)):\n",
    "         for j in range(i):\n",
    "             if (corr_matrix.iloc[i,j])>threshold: # we are interested in absolute coeff value\n",
    "                 colname= corr_matrix.columns[i] # getting the name of column\n",
    "                 col_corr.add(colname) \n",
    "     return col_corr\n"
   ]
  },
  {
   "cell_type": "code",
   "execution_count": 14,
   "id": "1bbf1cd1",
   "metadata": {
    "execution": {
     "iopub.execute_input": "2022-11-05T20:18:10.260901Z",
     "iopub.status.busy": "2022-11-05T20:18:10.259982Z",
     "iopub.status.idle": "2022-11-05T20:18:10.274468Z",
     "shell.execute_reply": "2022-11-05T20:18:10.272781Z"
    },
    "papermill": {
     "duration": 0.031542,
     "end_time": "2022-11-05T20:18:10.277059",
     "exception": false,
     "start_time": "2022-11-05T20:18:10.245517",
     "status": "completed"
    },
    "tags": []
   },
   "outputs": [
    {
     "name": "stdout",
     "output_type": "stream",
     "text": [
      "{'daynight_0', 'track'}\n"
     ]
    }
   ],
   "source": [
    "features= correlation(X_train,0.9)\n",
    "print(set(features))"
   ]
  },
  {
   "cell_type": "markdown",
   "id": "b326f900",
   "metadata": {
    "papermill": {
     "duration": 0.013224,
     "end_time": "2022-11-05T20:18:10.304184",
     "exception": false,
     "start_time": "2022-11-05T20:18:10.290960",
     "status": "completed"
    },
    "tags": []
   },
   "source": [
    "> We can now drop the features `track` and `daynight_0` "
   ]
  },
  {
   "cell_type": "code",
   "execution_count": 15,
   "id": "3a4fec8b",
   "metadata": {
    "execution": {
     "iopub.execute_input": "2022-11-05T20:18:10.333683Z",
     "iopub.status.busy": "2022-11-05T20:18:10.331872Z",
     "iopub.status.idle": "2022-11-05T20:18:10.338837Z",
     "shell.execute_reply": "2022-11-05T20:18:10.337702Z"
    },
    "papermill": {
     "duration": 0.023609,
     "end_time": "2022-11-05T20:18:10.341116",
     "exception": false,
     "start_time": "2022-11-05T20:18:10.317507",
     "status": "completed"
    },
    "tags": []
   },
   "outputs": [],
   "source": [
    "X_train=X_train.drop(['track','daynight_0'],axis=1)"
   ]
  },
  {
   "cell_type": "markdown",
   "id": "dc96d706",
   "metadata": {
    "papermill": {
     "duration": 0.013256,
     "end_time": "2022-11-05T20:18:10.368984",
     "exception": false,
     "start_time": "2022-11-05T20:18:10.355728",
     "status": "completed"
    },
    "tags": []
   },
   "source": [
    "### Applying the same to test data"
   ]
  },
  {
   "cell_type": "code",
   "execution_count": 16,
   "id": "97d4fe37",
   "metadata": {
    "execution": {
     "iopub.execute_input": "2022-11-05T20:18:10.398501Z",
     "iopub.status.busy": "2022-11-05T20:18:10.397867Z",
     "iopub.status.idle": "2022-11-05T20:18:10.403166Z",
     "shell.execute_reply": "2022-11-05T20:18:10.402538Z"
    },
    "papermill": {
     "duration": 0.022439,
     "end_time": "2022-11-05T20:18:10.405098",
     "exception": false,
     "start_time": "2022-11-05T20:18:10.382659",
     "status": "completed"
    },
    "tags": []
   },
   "outputs": [],
   "source": [
    "X_test=X_test.drop(['track','daynight_0'],axis=1)"
   ]
  },
  {
   "cell_type": "markdown",
   "id": "39846989",
   "metadata": {
    "papermill": {
     "duration": 0.013269,
     "end_time": "2022-11-05T20:18:10.432099",
     "exception": false,
     "start_time": "2022-11-05T20:18:10.418830",
     "status": "completed"
    },
    "tags": []
   },
   "source": [
    "## Applying Machine Learning Models\n",
    "- We will be applying 3 models and comparing it with each other: \n",
    " - Logistic Regression \n",
    " - K Nearest Neighbours \n",
    " - XG Boost"
   ]
  },
  {
   "cell_type": "markdown",
   "id": "3947eb82",
   "metadata": {
    "papermill": {
     "duration": 0.013453,
     "end_time": "2022-11-05T20:18:10.459026",
     "exception": false,
     "start_time": "2022-11-05T20:18:10.445573",
     "status": "completed"
    },
    "tags": []
   },
   "source": [
    "### Logistic Regression"
   ]
  },
  {
   "cell_type": "markdown",
   "id": "2060aed4",
   "metadata": {
    "papermill": {
     "duration": 0.013773,
     "end_time": "2022-11-05T20:18:10.487665",
     "exception": false,
     "start_time": "2022-11-05T20:18:10.473892",
     "status": "completed"
    },
    "tags": []
   },
   "source": [
    "We are keeping an `l2 regularization` since it has comparatively lesser computational complexity "
   ]
  },
  {
   "cell_type": "code",
   "execution_count": 17,
   "id": "181b66ee",
   "metadata": {
    "execution": {
     "iopub.execute_input": "2022-11-05T20:18:10.516837Z",
     "iopub.status.busy": "2022-11-05T20:18:10.516293Z",
     "iopub.status.idle": "2022-11-05T20:18:10.633650Z",
     "shell.execute_reply": "2022-11-05T20:18:10.632195Z"
    },
    "papermill": {
     "duration": 0.134706,
     "end_time": "2022-11-05T20:18:10.636056",
     "exception": false,
     "start_time": "2022-11-05T20:18:10.501350",
     "status": "completed"
    },
    "tags": []
   },
   "outputs": [],
   "source": [
    "from sklearn.linear_model import LogisticRegression\n",
    "lr = LogisticRegression(solver='liblinear', penalty='l2').fit(X_train, y_train)"
   ]
  },
  {
   "cell_type": "markdown",
   "id": "6935e6ea",
   "metadata": {
    "papermill": {
     "duration": 0.014537,
     "end_time": "2022-11-05T20:18:10.665066",
     "exception": false,
     "start_time": "2022-11-05T20:18:10.650529",
     "status": "completed"
    },
    "tags": []
   },
   "source": [
    "> Plotting the confusion matrix "
   ]
  },
  {
   "cell_type": "code",
   "execution_count": 18,
   "id": "8522da86",
   "metadata": {
    "execution": {
     "iopub.execute_input": "2022-11-05T20:18:10.694716Z",
     "iopub.status.busy": "2022-11-05T20:18:10.694351Z",
     "iopub.status.idle": "2022-11-05T20:18:10.706843Z",
     "shell.execute_reply": "2022-11-05T20:18:10.702059Z"
    },
    "papermill": {
     "duration": 0.029853,
     "end_time": "2022-11-05T20:18:10.709151",
     "exception": false,
     "start_time": "2022-11-05T20:18:10.679298",
     "status": "completed"
    },
    "tags": []
   },
   "outputs": [],
   "source": [
    "predictions=lr.predict(X_test)"
   ]
  },
  {
   "cell_type": "code",
   "execution_count": 19,
   "id": "df45da30",
   "metadata": {
    "execution": {
     "iopub.execute_input": "2022-11-05T20:18:10.747357Z",
     "iopub.status.busy": "2022-11-05T20:18:10.746924Z",
     "iopub.status.idle": "2022-11-05T20:18:10.927638Z",
     "shell.execute_reply": "2022-11-05T20:18:10.926054Z"
    },
    "papermill": {
     "duration": 0.202295,
     "end_time": "2022-11-05T20:18:10.929615",
     "exception": false,
     "start_time": "2022-11-05T20:18:10.727320",
     "status": "completed"
    },
    "tags": []
   },
   "outputs": [
    {
     "data": {
      "image/png": "[encoded data removed]",
      "text/plain": [
       "<Figure size 640x480 with 2 Axes>"
      ]
     },
     "metadata": {},
     "output_type": "display_data"
    }
   ],
   "source": [
    "from sklearn.metrics import precision_recall_fscore_support as score\n",
    "from sklearn.metrics import confusion_matrix, accuracy_score, roc_auc_score\n",
    "sns.set_context('talk')\n",
    "cm = confusion_matrix(y_test, predictions)\n",
    "ax = sns.heatmap(cm, annot=True, fmt='d')"
   ]
  },
  {
   "cell_type": "markdown",
   "id": "11f6ad50",
   "metadata": {
    "papermill": {
     "duration": 0.013727,
     "end_time": "2022-11-05T20:18:10.958127",
     "exception": false,
     "start_time": "2022-11-05T20:18:10.944400",
     "status": "completed"
    },
    "tags": []
   },
   "source": [
    "**The confusion matrix for logistic regression indicates that all the type 0s are predicted correctly, none of them are predicted as 1, while a lot of type 2s (depicted as 1 in the confusion matrix) are predicted as 0.**"
   ]
  },
  {
   "cell_type": "markdown",
   "id": "b10f5f5a",
   "metadata": {
    "papermill": {
     "duration": 0.015364,
     "end_time": "2022-11-05T20:18:10.988878",
     "exception": false,
     "start_time": "2022-11-05T20:18:10.973514",
     "status": "completed"
    },
    "tags": []
   },
   "source": []
  },
  {
   "cell_type": "code",
   "execution_count": 20,
   "id": "dc9b9096",
   "metadata": {
    "execution": {
     "iopub.execute_input": "2022-11-05T20:18:11.019727Z",
     "iopub.status.busy": "2022-11-05T20:18:11.019379Z",
     "iopub.status.idle": "2022-11-05T20:18:11.029949Z",
     "shell.execute_reply": "2022-11-05T20:18:11.029096Z"
    },
    "papermill": {
     "duration": 0.027898,
     "end_time": "2022-11-05T20:18:11.032015",
     "exception": false,
     "start_time": "2022-11-05T20:18:11.004117",
     "status": "completed"
    },
    "tags": []
   },
   "outputs": [
    {
     "name": "stdout",
     "output_type": "stream",
     "text": [
      "              precision    recall  f1-score   support\n",
      "\n",
      "           0       0.90      1.00      0.95      1583\n",
      "           2       1.00      0.81      0.89       863\n",
      "\n",
      "    accuracy                           0.93      2446\n",
      "   macro avg       0.95      0.90      0.92      2446\n",
      "weighted avg       0.94      0.93      0.93      2446\n",
      "\n",
      "Accuracy score:  0.93\n"
     ]
    }
   ],
   "source": [
    "print(classification_report(y_test, predictions))\n",
    "print('Accuracy score: ', round(accuracy_score(y_test, predictions), 2))"
   ]
  },
  {
   "cell_type": "markdown",
   "id": "f3ec9b95",
   "metadata": {
    "papermill": {
     "duration": 0.014556,
     "end_time": "2022-11-05T20:18:11.060810",
     "exception": false,
     "start_time": "2022-11-05T20:18:11.046254",
     "status": "completed"
    },
    "tags": []
   },
   "source": [
    "Therefore with `logistic regression` we get an accuracy of **93%**"
   ]
  },
  {
   "cell_type": "markdown",
   "id": "544f1a02",
   "metadata": {
    "papermill": {
     "duration": 0.013791,
     "end_time": "2022-11-05T20:18:11.088746",
     "exception": false,
     "start_time": "2022-11-05T20:18:11.074955",
     "status": "completed"
    },
    "tags": []
   },
   "source": [
    "## K Nearest Neighbour"
   ]
  },
  {
   "cell_type": "code",
   "execution_count": 21,
   "id": "4ab4e0da",
   "metadata": {
    "execution": {
     "iopub.execute_input": "2022-11-05T20:18:11.119392Z",
     "iopub.status.busy": "2022-11-05T20:18:11.118363Z",
     "iopub.status.idle": "2022-11-05T20:18:11.172240Z",
     "shell.execute_reply": "2022-11-05T20:18:11.171401Z"
    },
    "papermill": {
     "duration": 0.071675,
     "end_time": "2022-11-05T20:18:11.174536",
     "exception": false,
     "start_time": "2022-11-05T20:18:11.102861",
     "status": "completed"
    },
    "tags": []
   },
   "outputs": [],
   "source": [
    "from sklearn.neighbors import KNeighborsClassifier\n"
   ]
  },
  {
   "cell_type": "markdown",
   "id": "68a8b108",
   "metadata": {
    "papermill": {
     "duration": 0.013535,
     "end_time": "2022-11-05T20:18:11.202252",
     "exception": false,
     "start_time": "2022-11-05T20:18:11.188717",
     "status": "completed"
    },
    "tags": []
   },
   "source": [
    "> Checking the accuracy for different values of K to find the best one."
   ]
  },
  {
   "cell_type": "code",
   "execution_count": 22,
   "id": "7e821cda",
   "metadata": {
    "execution": {
     "iopub.execute_input": "2022-11-05T20:18:11.231892Z",
     "iopub.status.busy": "2022-11-05T20:18:11.230993Z",
     "iopub.status.idle": "2022-11-05T20:18:11.872355Z",
     "shell.execute_reply": "2022-11-05T20:18:11.870919Z"
    },
    "papermill": {
     "duration": 0.658749,
     "end_time": "2022-11-05T20:18:11.874714",
     "exception": false,
     "start_time": "2022-11-05T20:18:11.215965",
     "status": "completed"
    },
    "tags": []
   },
   "outputs": [],
   "source": [
    "accuracy_rate=[]\n",
    "\n",
    "for i in range(1,10):\n",
    "    knn = KNeighborsClassifier(n_neighbors=i)\n",
    "    knn = knn.fit(X_train, y_train)\n",
    "    y_pred = knn.predict(X_test)\n",
    "    score=round(accuracy_score(y_test, y_pred), 2)\n",
    "    accuracy_rate.append(score.mean())"
   ]
  },
  {
   "cell_type": "code",
   "execution_count": 23,
   "id": "657e9baf",
   "metadata": {
    "execution": {
     "iopub.execute_input": "2022-11-05T20:18:11.905282Z",
     "iopub.status.busy": "2022-11-05T20:18:11.904879Z",
     "iopub.status.idle": "2022-11-05T20:18:12.103941Z",
     "shell.execute_reply": "2022-11-05T20:18:12.102479Z"
    },
    "papermill": {
     "duration": 0.217998,
     "end_time": "2022-11-05T20:18:12.106706",
     "exception": false,
     "start_time": "2022-11-05T20:18:11.888708",
     "status": "completed"
    },
    "tags": []
   },
   "outputs": [
    {
     "data": {
      "text/plain": [
       "Text(0, 0.5, 'Accuracy')"
      ]
     },
     "execution_count": 23,
     "metadata": {},
     "output_type": "execute_result"
    },
    {
     "data": {
      "image/png": "[encoded data removed]",
      "text/plain": [
       "<Figure size 1000x600 with 1 Axes>"
      ]
     },
     "metadata": {},
     "output_type": "display_data"
    }
   ],
   "source": [
    "plt.figure(figsize=(10,6))\n",
    "plt.plot(range(1,10),accuracy_rate,color='blue',linestyle='dashed',marker='o',markerfacecolor='red',markersize=10)\n",
    "plt.title('Accuracy Rate vs K value')\n",
    "plt.xlabel('K')\n",
    "plt.ylabel('Accuracy')"
   ]
  },
  {
   "cell_type": "markdown",
   "id": "14287b12",
   "metadata": {
    "papermill": {
     "duration": 0.015309,
     "end_time": "2022-11-05T20:18:12.137649",
     "exception": false,
     "start_time": "2022-11-05T20:18:12.122340",
     "status": "completed"
    },
    "tags": []
   },
   "source": [
    "As shown in the graph. K=2 gives us the best accuracy."
   ]
  },
  {
   "cell_type": "code",
   "execution_count": 24,
   "id": "f8f3c323",
   "metadata": {
    "execution": {
     "iopub.execute_input": "2022-11-05T20:18:12.169705Z",
     "iopub.status.busy": "2022-11-05T20:18:12.169299Z",
     "iopub.status.idle": "2022-11-05T20:18:12.253271Z",
     "shell.execute_reply": "2022-11-05T20:18:12.251879Z"
    },
    "papermill": {
     "duration": 0.102544,
     "end_time": "2022-11-05T20:18:12.255275",
     "exception": false,
     "start_time": "2022-11-05T20:18:12.152731",
     "status": "completed"
    },
    "tags": []
   },
   "outputs": [
    {
     "name": "stdout",
     "output_type": "stream",
     "text": [
      "              precision    recall  f1-score   support\n",
      "\n",
      "           0       0.93      0.98      0.96      1583\n",
      "           2       0.97      0.87      0.92       863\n",
      "\n",
      "    accuracy                           0.95      2446\n",
      "   macro avg       0.95      0.93      0.94      2446\n",
      "weighted avg       0.95      0.95      0.94      2446\n",
      "\n",
      "Accuracy score:  0.95\n"
     ]
    }
   ],
   "source": [
    "# Estimate KNN model and report outcomes\n",
    "knn = KNeighborsClassifier(n_neighbors=2)\n",
    "knn = knn.fit(X_train, y_train)\n",
    "y_pred = knn.predict(X_test)\n",
    "# Preciision, recall, f-score from the multi-class support function\n",
    "print(classification_report(y_test, y_pred))\n",
    "print('Accuracy score: ', round(accuracy_score(y_test, y_pred), 2))"
   ]
  },
  {
   "cell_type": "markdown",
   "id": "0c4f9eff",
   "metadata": {
    "papermill": {
     "duration": 0.013949,
     "end_time": "2022-11-05T20:18:12.283535",
     "exception": false,
     "start_time": "2022-11-05T20:18:12.269586",
     "status": "completed"
    },
    "tags": []
   },
   "source": [
    "> Plotting the confusion matrix for KNN"
   ]
  },
  {
   "cell_type": "code",
   "execution_count": 25,
   "id": "6b444d9f",
   "metadata": {
    "execution": {
     "iopub.execute_input": "2022-11-05T20:18:12.313870Z",
     "iopub.status.busy": "2022-11-05T20:18:12.313505Z",
     "iopub.status.idle": "2022-11-05T20:18:12.474885Z",
     "shell.execute_reply": "2022-11-05T20:18:12.473664Z"
    },
    "papermill": {
     "duration": 0.179531,
     "end_time": "2022-11-05T20:18:12.477486",
     "exception": false,
     "start_time": "2022-11-05T20:18:12.297955",
     "status": "completed"
    },
    "tags": []
   },
   "outputs": [
    {
     "data": {
      "image/png": "[encoded data removed]",
      "text/plain": [
       "<Figure size 640x480 with 2 Axes>"
      ]
     },
     "metadata": {},
     "output_type": "display_data"
    }
   ],
   "source": [
    "sns.set_context('talk')\n",
    "cm = confusion_matrix(y_test, y_pred)\n",
    "ax = sns.heatmap(cm, annot=True, fmt='d')"
   ]
  },
  {
   "cell_type": "markdown",
   "id": "47d169a1",
   "metadata": {
    "papermill": {
     "duration": 0.014432,
     "end_time": "2022-11-05T20:18:12.506945",
     "exception": false,
     "start_time": "2022-11-05T20:18:12.492513",
     "status": "completed"
    },
    "tags": []
   },
   "source": []
  },
  {
   "cell_type": "markdown",
   "id": "84e5c31d",
   "metadata": {
    "papermill": {
     "duration": 0.014457,
     "end_time": "2022-11-05T20:18:12.536874",
     "exception": false,
     "start_time": "2022-11-05T20:18:12.522417",
     "status": "completed"
    },
    "tags": []
   },
   "source": [
    "**Even though the accuracy for KNN (95%) is higher than that for Logistic Regression (93%), KNN model predicts a fair number of type 0s incorrectly.**"
   ]
  },
  {
   "cell_type": "markdown",
   "id": "9882a6f0",
   "metadata": {
    "papermill": {
     "duration": 0.014485,
     "end_time": "2022-11-05T20:18:12.566331",
     "exception": false,
     "start_time": "2022-11-05T20:18:12.551846",
     "status": "completed"
    },
    "tags": []
   },
   "source": [
    "### XG BOOST"
   ]
  },
  {
   "cell_type": "markdown",
   "id": "f7d18821",
   "metadata": {
    "papermill": {
     "duration": 0.014559,
     "end_time": "2022-11-05T20:18:12.595960",
     "exception": false,
     "start_time": "2022-11-05T20:18:12.581401",
     "status": "completed"
    },
    "tags": []
   },
   "source": [
    "- Using a list of number of trees we will iterate through each and select the one that gives us the least error. "
   ]
  },
  {
   "cell_type": "code",
   "execution_count": 26,
   "id": "5d7f438f",
   "metadata": {
    "execution": {
     "iopub.execute_input": "2022-11-05T20:18:12.627301Z",
     "iopub.status.busy": "2022-11-05T20:18:12.626679Z",
     "iopub.status.idle": "2022-11-05T20:18:30.443334Z",
     "shell.execute_reply": "2022-11-05T20:18:30.441102Z"
    },
    "papermill": {
     "duration": 17.834746,
     "end_time": "2022-11-05T20:18:30.445440",
     "exception": false,
     "start_time": "2022-11-05T20:18:12.610694",
     "status": "completed"
    },
    "tags": []
   },
   "outputs": [
    {
     "name": "stdout",
     "output_type": "stream",
     "text": [
      "Fitting model with 15 trees\n"
     ]
    },
    {
     "name": "stderr",
     "output_type": "stream",
     "text": [
      "c:\\Users\\sayan\\AppData\\Local\\Programs\\Python\\Python311\\Lib\\site-packages\\sklearn\\base.py:457: UserWarning: X has feature names, but GradientBoostingClassifier was fitted without feature names\n",
      "  warnings.warn(\n"
     ]
    },
    {
     "name": "stdout",
     "output_type": "stream",
     "text": [
      "Fitting model with 25 trees\n"
     ]
    },
    {
     "name": "stderr",
     "output_type": "stream",
     "text": [
      "c:\\Users\\sayan\\AppData\\Local\\Programs\\Python\\Python311\\Lib\\site-packages\\sklearn\\base.py:457: UserWarning: X has feature names, but GradientBoostingClassifier was fitted without feature names\n",
      "  warnings.warn(\n"
     ]
    },
    {
     "name": "stdout",
     "output_type": "stream",
     "text": [
      "Fitting model with 50 trees\n"
     ]
    },
    {
     "name": "stderr",
     "output_type": "stream",
     "text": [
      "c:\\Users\\sayan\\AppData\\Local\\Programs\\Python\\Python311\\Lib\\site-packages\\sklearn\\base.py:457: UserWarning: X has feature names, but GradientBoostingClassifier was fitted without feature names\n",
      "  warnings.warn(\n"
     ]
    },
    {
     "name": "stdout",
     "output_type": "stream",
     "text": [
      "Fitting model with 100 trees\n"
     ]
    },
    {
     "name": "stderr",
     "output_type": "stream",
     "text": [
      "c:\\Users\\sayan\\AppData\\Local\\Programs\\Python\\Python311\\Lib\\site-packages\\sklearn\\base.py:457: UserWarning: X has feature names, but GradientBoostingClassifier was fitted without feature names\n",
      "  warnings.warn(\n"
     ]
    },
    {
     "name": "stdout",
     "output_type": "stream",
     "text": [
      "Fitting model with 200 trees\n"
     ]
    },
    {
     "name": "stderr",
     "output_type": "stream",
     "text": [
      "c:\\Users\\sayan\\AppData\\Local\\Programs\\Python\\Python311\\Lib\\site-packages\\sklearn\\base.py:457: UserWarning: X has feature names, but GradientBoostingClassifier was fitted without feature names\n",
      "  warnings.warn(\n"
     ]
    },
    {
     "name": "stdout",
     "output_type": "stream",
     "text": [
      "Fitting model with 400 trees\n"
     ]
    },
    {
     "name": "stderr",
     "output_type": "stream",
     "text": [
      "c:\\Users\\sayan\\AppData\\Local\\Programs\\Python\\Python311\\Lib\\site-packages\\sklearn\\base.py:457: UserWarning: X has feature names, but GradientBoostingClassifier was fitted without feature names\n",
      "  warnings.warn(\n"
     ]
    },
    {
     "data": {
      "text/html": [
       "<div>\n",
       "<style scoped>\n",
       "    .dataframe tbody tr th:only-of-type {\n",
       "        vertical-align: middle;\n",
       "    }\n",
       "\n",
       "    .dataframe tbody tr th {\n",
       "        vertical-align: top;\n",
       "    }\n",
       "\n",
       "    .dataframe thead th {\n",
       "        text-align: right;\n",
       "    }\n",
       "</style>\n",
       "<table border=\"1\" class=\"dataframe\">\n",
       "  <thead>\n",
       "    <tr style=\"text-align: right;\">\n",
       "      <th></th>\n",
       "      <th>error</th>\n",
       "    </tr>\n",
       "    <tr>\n",
       "      <th>n_trees</th>\n",
       "      <th></th>\n",
       "    </tr>\n",
       "  </thead>\n",
       "  <tbody>\n",
       "    <tr>\n",
       "      <th>15.0</th>\n",
       "      <td>0.023712</td>\n",
       "    </tr>\n",
       "    <tr>\n",
       "      <th>25.0</th>\n",
       "      <td>0.023303</td>\n",
       "    </tr>\n",
       "    <tr>\n",
       "      <th>50.0</th>\n",
       "      <td>0.021259</td>\n",
       "    </tr>\n",
       "    <tr>\n",
       "      <th>100.0</th>\n",
       "      <td>0.016762</td>\n",
       "    </tr>\n",
       "    <tr>\n",
       "      <th>200.0</th>\n",
       "      <td>0.015536</td>\n",
       "    </tr>\n",
       "    <tr>\n",
       "      <th>400.0</th>\n",
       "      <td>0.015944</td>\n",
       "    </tr>\n",
       "  </tbody>\n",
       "</table>\n",
       "</div>"
      ],
      "text/plain": [
       "            error\n",
       "n_trees          \n",
       "15.0     0.023712\n",
       "25.0     0.023303\n",
       "50.0     0.021259\n",
       "100.0    0.016762\n",
       "200.0    0.015536\n",
       "400.0    0.015944"
      ]
     },
     "execution_count": 26,
     "metadata": {},
     "output_type": "execute_result"
    }
   ],
   "source": [
    "### BEGIN SOLUTION\n",
    "from sklearn.ensemble import GradientBoostingClassifier\n",
    "from sklearn.metrics import accuracy_score\n",
    "\n",
    "error_list = list()\n",
    "\n",
    "# Iterate through various possibilities for number of trees\n",
    "tree_list = [15, 25, 50, 100, 200, 400]\n",
    "for n_trees in tree_list:\n",
    "    \n",
    "    # Initialize the gradient boost classifier\n",
    "    GBC = GradientBoostingClassifier(n_estimators=n_trees, random_state=42)\n",
    "\n",
    "    # Fit the model\n",
    "    print(f'Fitting model with {n_trees} trees')\n",
    "    GBC.fit(X_train.values, y_train.values)\n",
    "    y_pred = GBC.predict(X_test)\n",
    "\n",
    "    # Get the error\n",
    "    error = 1.0 - accuracy_score(y_test, y_pred)\n",
    "    \n",
    "    # Store it\n",
    "    error_list.append(pd.Series({'n_trees': n_trees, 'error': error}))\n",
    "\n",
    "error_df = pd.concat(error_list, axis=1).T.set_index('n_trees')\n",
    "\n",
    "error_df"
   ]
  },
  {
   "cell_type": "markdown",
   "id": "1add790c",
   "metadata": {
    "papermill": {
     "duration": 0.015263,
     "end_time": "2022-11-05T20:18:30.476352",
     "exception": false,
     "start_time": "2022-11-05T20:18:30.461089",
     "status": "completed"
    },
    "tags": []
   },
   "source": [
    "- Plotting a graph to analyse the error rate for every number of trees."
   ]
  },
  {
   "cell_type": "code",
   "execution_count": 27,
   "id": "35cc9aa6",
   "metadata": {
    "execution": {
     "iopub.execute_input": "2022-11-05T20:18:30.509161Z",
     "iopub.status.busy": "2022-11-05T20:18:30.508779Z",
     "iopub.status.idle": "2022-11-05T20:18:30.776859Z",
     "shell.execute_reply": "2022-11-05T20:18:30.775901Z"
    },
    "papermill": {
     "duration": 0.287016,
     "end_time": "2022-11-05T20:18:30.778883",
     "exception": false,
     "start_time": "2022-11-05T20:18:30.491867",
     "status": "completed"
    },
    "tags": []
   },
   "outputs": [
    {
     "data": {
      "image/png": "[encoded data removed]",
      "text/plain": [
       "<Figure size 1200x800 with 1 Axes>"
      ]
     },
     "metadata": {},
     "output_type": "display_data"
    }
   ],
   "source": [
    "sns.set_context('talk')\n",
    "sns.set_style('white')\n",
    "\n",
    "# Create the plot\n",
    "ax = error_df.plot(marker='o', figsize=(12, 8), linewidth=5)\n",
    "\n",
    "# Set parameters\n",
    "ax.set(xlabel='Number of Trees', ylabel='Error')\n",
    "ax.set_xlim(0, max(error_df.index)*1.1);\n",
    "### END SOLUTION"
   ]
  },
  {
   "cell_type": "markdown",
   "id": "82bef8f1",
   "metadata": {
    "papermill": {
     "duration": 0.0158,
     "end_time": "2022-11-05T20:18:30.811349",
     "exception": false,
     "start_time": "2022-11-05T20:18:30.795549",
     "status": "completed"
    },
    "tags": []
   },
   "source": [
    "- As shown in the graph, no. of trees=200 gives us the least error"
   ]
  },
  {
   "cell_type": "markdown",
   "id": "d5dfc04e",
   "metadata": {
    "papermill": {
     "duration": 0.015882,
     "end_time": "2022-11-05T20:18:30.843459",
     "exception": false,
     "start_time": "2022-11-05T20:18:30.827577",
     "status": "completed"
    },
    "tags": []
   },
   "source": [
    "> We can also make the use of **GridSearchCV** library of Sklearn to find the best estimator."
   ]
  },
  {
   "cell_type": "code",
   "execution_count": 28,
   "id": "90e55405",
   "metadata": {
    "execution": {
     "iopub.execute_input": "2022-11-05T20:18:30.878098Z",
     "iopub.status.busy": "2022-11-05T20:18:30.876999Z",
     "iopub.status.idle": "2022-11-05T20:21:40.142057Z",
     "shell.execute_reply": "2022-11-05T20:21:40.140640Z"
    },
    "papermill": {
     "duration": 189.284801,
     "end_time": "2022-11-05T20:21:40.144402",
     "exception": false,
     "start_time": "2022-11-05T20:18:30.859601",
     "status": "completed"
    },
    "tags": []
   },
   "outputs": [],
   "source": [
    "### BEGIN SOLUTION\n",
    "from sklearn.model_selection import GridSearchCV\n",
    "\n",
    "# The parameters to be fit\n",
    "param_grid = {'n_estimators': tree_list,\n",
    "              'learning_rate': [0.1, 0.01, 0.001, 0.0001],\n",
    "              'subsample': [1.0, 0.5],\n",
    "              'max_features': [1, 2, 3, 4]}\n",
    "\n",
    "# The grid search object\n",
    "GV_GBC = GridSearchCV(GradientBoostingClassifier(random_state=42), \n",
    "                      param_grid=param_grid, \n",
    "                      scoring='accuracy',\n",
    "                      n_jobs=-1)\n",
    "\n",
    "# Do the grid search\n",
    "GV_GBC = GV_GBC.fit(X_train, y_train)"
   ]
  },
  {
   "cell_type": "code",
   "execution_count": 29,
   "id": "acdb4036",
   "metadata": {
    "execution": {
     "iopub.execute_input": "2022-11-05T20:21:40.178531Z",
     "iopub.status.busy": "2022-11-05T20:21:40.178154Z",
     "iopub.status.idle": "2022-11-05T20:21:40.188629Z",
     "shell.execute_reply": "2022-11-05T20:21:40.187367Z"
    },
    "papermill": {
     "duration": 0.03032,
     "end_time": "2022-11-05T20:21:40.191084",
     "exception": false,
     "start_time": "2022-11-05T20:21:40.160764",
     "status": "completed"
    },
    "tags": []
   },
   "outputs": [
    {
     "data": {
      "text/html": [
       "<style>#sk-container-id-1 {color: black;}#sk-container-id-1 pre{padding: 0;}#sk-container-id-1 div.sk-toggleable {background-color: white;}#sk-container-id-1 label.sk-toggleable__label {cursor: pointer;display: block;width: 100%;margin-bottom: 0;padding: 0.3em;box-sizing: border-box;text-align: center;}#sk-container-id-1 label.sk-toggleable__label-arrow:before {content: \"▸\";float: left;margin-right: 0.25em;color: #696969;}#sk-container-id-1 label.sk-toggleable__label-arrow:hover:before {color: black;}#sk-container-id-1 div.sk-estimator:hover label.sk-toggleable__label-arrow:before {color: black;}#sk-container-id-1 div.sk-toggleable__content {max-height: 0;max-width: 0;overflow: hidden;text-align: left;background-color: #f0f8ff;}#sk-container-id-1 div.sk-toggleable__content pre {margin: 0.2em;color: black;border-radius: 0.25em;background-color: #f0f8ff;}#sk-container-id-1 input.sk-toggleable__control:checked~div.sk-toggleable__content {max-height: 200px;max-width: 100%;overflow: auto;}#sk-container-id-1 input.sk-toggleable__control:checked~label.sk-toggleable__label-arrow:before {content: \"▾\";}#sk-container-id-1 div.sk-estimator input.sk-toggleable__control:checked~label.sk-toggleable__label {background-color: #d4ebff;}#sk-container-id-1 div.sk-label input.sk-toggleable__control:checked~label.sk-toggleable__label {background-color: #d4ebff;}#sk-container-id-1 input.sk-hidden--visually {border: 0;clip: rect(1px 1px 1px 1px);clip: rect(1px, 1px, 1px, 1px);height: 1px;margin: -1px;overflow: hidden;padding: 0;position: absolute;width: 1px;}#sk-container-id-1 div.sk-estimator {font-family: monospace;background-color: #f0f8ff;border: 1px dotted black;border-radius: 0.25em;box-sizing: border-box;margin-bottom: 0.5em;}#sk-container-id-1 div.sk-estimator:hover {background-color: #d4ebff;}#sk-container-id-1 div.sk-parallel-item::after {content: \"\";width: 100%;border-bottom: 1px solid gray;flex-grow: 1;}#sk-container-id-1 div.sk-label:hover label.sk-toggleable__label {background-color: #d4ebff;}#sk-container-id-1 div.sk-serial::before {content: \"\";position: absolute;border-left: 1px solid gray;box-sizing: border-box;top: 0;bottom: 0;left: 50%;z-index: 0;}#sk-container-id-1 div.sk-serial {display: flex;flex-direction: column;align-items: center;background-color: white;padding-right: 0.2em;padding-left: 0.2em;position: relative;}#sk-container-id-1 div.sk-item {position: relative;z-index: 1;}#sk-container-id-1 div.sk-parallel {display: flex;align-items: stretch;justify-content: center;background-color: white;position: relative;}#sk-container-id-1 div.sk-item::before, #sk-container-id-1 div.sk-parallel-item::before {content: \"\";position: absolute;border-left: 1px solid gray;box-sizing: border-box;top: 0;bottom: 0;left: 50%;z-index: -1;}#sk-container-id-1 div.sk-parallel-item {display: flex;flex-direction: column;z-index: 1;position: relative;background-color: white;}#sk-container-id-1 div.sk-parallel-item:first-child::after {align-self: flex-end;width: 50%;}#sk-container-id-1 div.sk-parallel-item:last-child::after {align-self: flex-start;width: 50%;}#sk-container-id-1 div.sk-parallel-item:only-child::after {width: 0;}#sk-container-id-1 div.sk-dashed-wrapped {border: 1px dashed gray;margin: 0 0.4em 0.5em 0.4em;box-sizing: border-box;padding-bottom: 0.4em;background-color: white;}#sk-container-id-1 div.sk-label label {font-family: monospace;font-weight: bold;display: inline-block;line-height: 1.2em;}#sk-container-id-1 div.sk-label-container {text-align: center;}#sk-container-id-1 div.sk-container {/* jupyter's `normalize.less` sets `[hidden] { display: none; }` but bootstrap.min.css set `[hidden] { display: none !important; }` so we also need the `!important` here to be able to override the default hidden behavior on the sphinx rendered scikit-learn.org. See: https://github.com/scikit-learn/scikit-learn/issues/21755 */display: inline-block !important;position: relative;}#sk-container-id-1 div.sk-text-repr-fallback {display: none;}</style><div id=\"sk-container-id-1\" class=\"sk-top-container\"><div class=\"sk-text-repr-fallback\"><pre>GradientBoostingClassifier(max_features=4, n_estimators=200, random_state=42)</pre><b>In a Jupyter environment, please rerun this cell to show the HTML representation or trust the notebook. <br />On GitHub, the HTML representation is unable to render, please try loading this page with nbviewer.org.</b></div><div class=\"sk-container\" hidden><div class=\"sk-item\"><div class=\"sk-estimator sk-toggleable\"><input class=\"sk-toggleable__control sk-hidden--visually\" id=\"sk-estimator-id-1\" type=\"checkbox\" checked><label for=\"sk-estimator-id-1\" class=\"sk-toggleable__label sk-toggleable__label-arrow\">GradientBoostingClassifier</label><div class=\"sk-toggleable__content\"><pre>GradientBoostingClassifier(max_features=4, n_estimators=200, random_state=42)</pre></div></div></div></div></div>"
      ],
      "text/plain": [
       "GradientBoostingClassifier(max_features=4, n_estimators=200, random_state=42)"
      ]
     },
     "execution_count": 29,
     "metadata": {},
     "output_type": "execute_result"
    }
   ],
   "source": [
    "GV_GBC.best_estimator_"
   ]
  },
  {
   "cell_type": "code",
   "execution_count": 30,
   "id": "a7062b60",
   "metadata": {
    "execution": {
     "iopub.execute_input": "2022-11-05T20:21:40.224559Z",
     "iopub.status.busy": "2022-11-05T20:21:40.224198Z",
     "iopub.status.idle": "2022-11-05T20:21:40.244013Z",
     "shell.execute_reply": "2022-11-05T20:21:40.242959Z"
    },
    "papermill": {
     "duration": 0.038921,
     "end_time": "2022-11-05T20:21:40.246102",
     "exception": false,
     "start_time": "2022-11-05T20:21:40.207181",
     "status": "completed"
    },
    "tags": []
   },
   "outputs": [
    {
     "name": "stdout",
     "output_type": "stream",
     "text": [
      "              precision    recall  f1-score   support\n",
      "\n",
      "           0       0.99      0.98      0.99      1611\n",
      "           2       0.96      0.99      0.97       835\n",
      "\n",
      "    accuracy                           0.98      2446\n",
      "   macro avg       0.98      0.98      0.98      2446\n",
      "weighted avg       0.98      0.98      0.98      2446\n",
      "\n"
     ]
    }
   ],
   "source": [
    "from sklearn.metrics import classification_report\n",
    "\n",
    "y_pred = GV_GBC.predict(X_test)\n",
    "print(classification_report(y_pred, y_test))"
   ]
  },
  {
   "cell_type": "markdown",
   "id": "e7f99ce9",
   "metadata": {
    "papermill": {
     "duration": 0.019254,
     "end_time": "2022-11-05T20:21:40.281597",
     "exception": false,
     "start_time": "2022-11-05T20:21:40.262343",
     "status": "completed"
    },
    "tags": []
   },
   "source": [
    "**We can get an accuracy of 98% with XGBOOST, higher than the rest of the models.**"
   ]
  },
  {
   "cell_type": "code",
   "execution_count": 31,
   "id": "6c517bf5",
   "metadata": {
    "execution": {
     "iopub.execute_input": "2022-11-05T20:21:40.325241Z",
     "iopub.status.busy": "2022-11-05T20:21:40.324296Z",
     "iopub.status.idle": "2022-11-05T20:21:40.333490Z",
     "shell.execute_reply": "2022-11-05T20:21:40.332077Z"
    },
    "papermill": {
     "duration": 0.034501,
     "end_time": "2022-11-05T20:21:40.335568",
     "exception": false,
     "start_time": "2022-11-05T20:21:40.301067",
     "status": "completed"
    },
    "tags": []
   },
   "outputs": [
    {
     "data": {
      "text/plain": [
       "0.982011447260834"
      ]
     },
     "execution_count": 31,
     "metadata": {},
     "output_type": "execute_result"
    }
   ],
   "source": [
    "from sklearn.metrics import accuracy_score\n",
    "accuracy_score(y_test, y_pred)"
   ]
  },
  {
   "cell_type": "code",
   "execution_count": 32,
   "id": "4d361459",
   "metadata": {
    "execution": {
     "iopub.execute_input": "2022-11-05T20:21:40.372495Z",
     "iopub.status.busy": "2022-11-05T20:21:40.372020Z",
     "iopub.status.idle": "2022-11-05T20:21:40.548554Z",
     "shell.execute_reply": "2022-11-05T20:21:40.547485Z"
    },
    "papermill": {
     "duration": 0.195913,
     "end_time": "2022-11-05T20:21:40.550458",
     "exception": false,
     "start_time": "2022-11-05T20:21:40.354545",
     "status": "completed"
    },
    "tags": []
   },
   "outputs": [
    {
     "data": {
      "image/png": "[encoded data removed]",
      "text/plain": [
       "<Figure size 640x480 with 2 Axes>"
      ]
     },
     "metadata": {},
     "output_type": "display_data"
    }
   ],
   "source": [
    "from sklearn.metrics import confusion_matrix\n",
    "\n",
    "sns.set_context('talk')\n",
    "cm = confusion_matrix(y_test, y_pred)\n",
    "ax = sns.heatmap(cm, annot=True, fmt='d')"
   ]
  },
  {
   "cell_type": "markdown",
   "id": "20ce044e",
   "metadata": {
    "papermill": {
     "duration": 0.016259,
     "end_time": "2022-11-05T20:21:40.583450",
     "exception": false,
     "start_time": "2022-11-05T20:21:40.567191",
     "status": "completed"
    },
    "tags": []
   },
   "source": [
    "> Confusion matrix shows least amount values predicted incorrectly."
   ]
  },
  {
   "cell_type": "code",
   "execution_count": 37,
   "id": "4c71226c",
   "metadata": {},
   "outputs": [],
   "source": [
    "import pickle\n",
    "\n",
    "# Assuming y_test and y_pred are already computed\n",
    "results = {'y_test': y_test, 'y_pred': y_pred}\n",
    "\n",
    "# Save the results to a pickle file\n",
    "with open('results.pkl', 'wb') as file:\n",
    "    pickle.dump(results, file)\n"
   ]
  },
  {
   "cell_type": "code",
   "execution_count": 38,
   "id": "095af59b",
   "metadata": {},
   "outputs": [],
   "source": [
    "with open('results.pkl', 'rb') as file:\n",
    "    loaded_results = pickle.load(file)\n",
    "\n",
    "y_test_loaded = loaded_results['y_test']\n",
    "y_pred_loaded = loaded_results['y_pred']"
   ]
  },
  {
   "cell_type": "markdown",
   "id": "5c13be80",
   "metadata": {
    "papermill": {
     "duration": 0.01627,
     "end_time": "2022-11-05T20:21:40.616336",
     "exception": false,
     "start_time": "2022-11-05T20:21:40.600066",
     "status": "completed"
    },
    "tags": []
   },
   "source": []
  },
  {
   "cell_type": "markdown",
   "id": "8353f0d7",
   "metadata": {
    "papermill": {
     "duration": 0.015773,
     "end_time": "2022-11-05T20:21:40.648278",
     "exception": false,
     "start_time": "2022-11-05T20:21:40.632505",
     "status": "completed"
    },
    "tags": []
   },
   "source": [
    "## Conclusion: \n",
    "- Logistic Regression: 93% \n",
    "- KNN: 95%\n",
    "- XGBOOST: 98% "
   ]
  },
  {
   "cell_type": "markdown",
   "id": "e2db115d",
   "metadata": {
    "papermill": {
     "duration": 0.016195,
     "end_time": "2022-11-05T20:21:40.680738",
     "exception": false,
     "start_time": "2022-11-05T20:21:40.664543",
     "status": "completed"
    },
    "tags": []
   },
   "source": [
    "### Hence the best Algorithm for the prediction of the type of forest fire detected by MODIS satellite will be ***XGBOOST*** "
   ]
  }
 ],
 "metadata": {
  "kernelspec": {
   "display_name": "Python 3",
   "language": "python",
   "name": "python3"
  },
  "language_info": {
   "codemirror_mode": {
    "name": "ipython",
    "version": 3
   },
   "file_extension": ".py",
   "mimetype": "text/x-python",
   "name": "python",
   "nbconvert_exporter": "python",
   "pygments_lexer": "ipython3",
   "version": "3.11.2"
  },
  "papermill": {
   "default_parameters": {},
   "duration": 223.441652,
   "end_time": "2022-11-05T20:21:43.317562",
   "environment_variables": {},
   "exception": null,
   "input_path": "__notebook__.ipynb",
   "output_path": "__notebook__.ipynb",
   "parameters": {},
   "start_time": "2022-11-05T20:17:59.875910",
   "version": "2.3.4"
  }
 },
 "nbformat": 4,
 "nbformat_minor": 5
}
